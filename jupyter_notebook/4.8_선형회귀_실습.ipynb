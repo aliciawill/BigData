{
  "cells": [
    {
      "cell_type": "markdown",
      "metadata": {
        "id": "B52jVUmEltV3"
      },
      "source": [
        "<a href=\"https://colab.research.google.com/github/wikibook/machine-learning/blob/2.0/jupyter_notebook/4.8_선형회귀_실습.ipynb\" target=\"_parent\"><img src=\"https://colab.research.google.com/assets/colab-badge.svg\" alt=\"Open In Colab\"/></a>"
      ]
    },
    {
      "cell_type": "markdown",
      "metadata": {
        "id": "GJPt7VrTltV7"
      },
      "source": [
        "# 선형 회귀\n",
        "y = wx의 형태를 갖는 간단한 선형 회귀를 실습해보겠습니다."
      ]
    },
    {
      "cell_type": "code",
      "execution_count": 1,
      "metadata": {
        "id": "3WNKJ6vxltV8"
      },
      "outputs": [],
      "source": [
        "from tensorflow.keras import optimizers\n",
        "from tensorflow.keras.models import Sequential\n",
        "from tensorflow.keras.layers import Dense\n",
        "import numpy as np\n",
        "import matplotlib.pyplot as plt\n",
        "%matplotlib inline"
      ]
    },
    {
      "cell_type": "markdown",
      "metadata": {
        "id": "Fzz-VkozltV9"
      },
      "source": [
        "# 데이터 생성하기\n",
        "numpy를 활용하여 간단하게 선형 회귀 데이터를 생성합니다.  \n",
        "x값에 따른 y값은 해당 x값에 랜덤 노이즈를 더하여, 회귀 계산에 적합한 분포의 데이터로 생성합니다."
      ]
    },
    {
      "cell_type": "code",
      "execution_count": 2,
      "metadata": {
        "id": "fGvmtOY5ltV9"
      },
      "outputs": [],
      "source": [
        "X = np.linspace(0, 10, 10)\n",
        "Y = X + np.random.randn(*X.shape)"
      ]
    },
    {
      "cell_type": "markdown",
      "metadata": {
        "id": "lp2e-I3NltV-"
      },
      "source": [
        "# 데이터 조회\n",
        "아래의 코드를 통해 임의로 생성된 데이터를 조회할 수 있습니다.  \n",
        "하나의 함수로 얻을 수 없는, x에 해당하는 y값을 볼 수 있습니다.  \n",
        "선형 회귀를 통해, 아래 데이터 분포에 가장 적합한 (약간의 에러를 허용하는)  \n",
        "w를 찾도록 하겠습니다."
      ]
    },
    {
      "cell_type": "code",
      "execution_count": 3,
      "metadata": {
        "id": "OZXEnjhlltV-",
        "outputId": "e14244b6-4f4f-4c15-e862-d004cd29c8af",
        "colab": {
          "base_uri": "https://localhost:8080/"
        }
      },
      "outputs": [
        {
          "output_type": "stream",
          "name": "stdout",
          "text": [
            "(0.0, 1.3)\n",
            "(1.1, 1.1)\n",
            "(2.2, -0.8)\n",
            "(3.3, 4.2)\n",
            "(4.4, 4.3)\n",
            "(5.6, 5.2)\n",
            "(6.7, 8.6)\n",
            "(7.8, 7.8)\n",
            "(8.9, 9.4)\n",
            "(10.0, 10.3)\n"
          ]
        }
      ],
      "source": [
        "for x, y in zip(X,Y):\n",
        "    print((round(x,1), round(y,1)))"
      ]
    },
    {
      "cell_type": "markdown",
      "metadata": {
        "id": "pMMLKsEfltWA"
      },
      "source": [
        "# 선형 회귀 모델 만들기\n",
        "Keras의 Sequential을 사용하면, 단 몇줄로 선형 회귀 모델을 만들 수 있습니다.  "
      ]
    },
    {
      "cell_type": "code",
      "execution_count": 4,
      "metadata": {
        "id": "qqCPltLQltWA"
      },
      "outputs": [],
      "source": [
        "model = Sequential()\n",
        "model.add(Dense(input_dim=1, units=1, activation=\"linear\", use_bias=False))"
      ]
    },
    {
      "cell_type": "markdown",
      "metadata": {
        "id": "jvceWI-fltWA"
      },
      "source": [
        "경사하강법 (gradient descent)로 선형회귀 함수를 구합니다.  \n",
        "learning rate은 0.01로 지정하였으며, 비용 함수는 평균 제곱 오차 (mse: Mean Squared Error)를 사용합니다."
      ]
    },
    {
      "cell_type": "code",
      "execution_count": 5,
      "metadata": {
        "id": "SZqhf7fQltWB",
        "outputId": "00fcf29c-fb81-45dd-9f13-32ff6df3a8f2",
        "colab": {
          "base_uri": "https://localhost:8080/"
        }
      },
      "outputs": [
        {
          "output_type": "stream",
          "name": "stderr",
          "text": [
            "/usr/local/lib/python3.7/dist-packages/keras/optimizer_v2/gradient_descent.py:102: UserWarning: The `lr` argument is deprecated, use `learning_rate` instead.\n",
            "  super(SGD, self).__init__(name, **kwargs)\n"
          ]
        }
      ],
      "source": [
        "sgd = optimizers.SGD(lr=0.05)\n",
        "model.compile(optimizer='sgd', loss='mse')"
      ]
    },
    {
      "cell_type": "markdown",
      "metadata": {
        "id": "Wb_P8MpAltWB"
      },
      "source": [
        "선형 회귀 모델을 학습하기 전에, 먼저 최초로 설정된 w(기울기)를 조회해보도록 하겠습니다."
      ]
    },
    {
      "cell_type": "code",
      "execution_count": 6,
      "metadata": {
        "id": "wLKq-KUmltWC",
        "outputId": "cbbe3f56-bf5f-41f3-c847-e7252cc554c1",
        "colab": {
          "base_uri": "https://localhost:8080/"
        }
      },
      "outputs": [
        {
          "output_type": "stream",
          "name": "stdout",
          "text": [
            "initial w is : -0.09036946\n"
          ]
        }
      ],
      "source": [
        "weights = model.layers[0].get_weights()\n",
        "w = weights[0][0][0]\n",
        "\n",
        "print('initial w is : ' + str(w))"
      ]
    },
    {
      "cell_type": "markdown",
      "metadata": {
        "id": "p10HpHUqltWC"
      },
      "source": [
        "# 선형 회귀 모델 학습\n",
        "아래의 코드를 실행하여 학습합니다.  \n",
        "총 10개의 데이터가 있으므로, batch_size를 10으로 설정하여 batch gradient descent를 실행합니다.  \n",
        "epochs=10은 총 10번 반복 수행하여 모델을 학습한다는 뜻입니다."
      ]
    },
    {
      "cell_type": "code",
      "execution_count": 7,
      "metadata": {
        "id": "jofKCMfLltWD",
        "outputId": "712ae172-5da5-4924-97d1-4eb4e7510c03",
        "colab": {
          "base_uri": "https://localhost:8080/"
        }
      },
      "outputs": [
        {
          "output_type": "stream",
          "name": "stdout",
          "text": [
            "Epoch 1/10\n",
            "1/1 [==============================] - 0s 337ms/step - loss: 46.4149\n",
            "Epoch 2/10\n",
            "1/1 [==============================] - 0s 7ms/step - loss: 5.4874\n",
            "Epoch 3/10\n",
            "1/1 [==============================] - 0s 8ms/step - loss: 1.8943\n",
            "Epoch 4/10\n",
            "1/1 [==============================] - 0s 4ms/step - loss: 1.5789\n",
            "Epoch 5/10\n",
            "1/1 [==============================] - 0s 6ms/step - loss: 1.5512\n",
            "Epoch 6/10\n",
            "1/1 [==============================] - 0s 8ms/step - loss: 1.5488\n",
            "Epoch 7/10\n",
            "1/1 [==============================] - 0s 4ms/step - loss: 1.5485\n",
            "Epoch 8/10\n",
            "1/1 [==============================] - 0s 6ms/step - loss: 1.5485\n",
            "Epoch 9/10\n",
            "1/1 [==============================] - 0s 6ms/step - loss: 1.5485\n",
            "Epoch 10/10\n",
            "1/1 [==============================] - 0s 4ms/step - loss: 1.5485\n"
          ]
        },
        {
          "output_type": "execute_result",
          "data": {
            "text/plain": [
              "<keras.callbacks.History at 0x7fbcdaf35f10>"
            ]
          },
          "metadata": {},
          "execution_count": 7
        }
      ],
      "source": [
        "model.fit(X, Y, batch_size=10,epochs=10, verbose=1)"
      ]
    },
    {
      "cell_type": "markdown",
      "metadata": {
        "id": "rm6P5tKLltWD"
      },
      "source": [
        "학습된 선형 회귀 모델의, w(기울기)를 조회해보도록 하겠습니다."
      ]
    },
    {
      "cell_type": "code",
      "execution_count": 8,
      "metadata": {
        "id": "wYPzYrU6ltWE",
        "outputId": "782b2c05-cc2d-4a7f-e0ec-e57b29176996",
        "colab": {
          "base_uri": "https://localhost:8080/"
        }
      },
      "outputs": [
        {
          "output_type": "stream",
          "name": "stdout",
          "text": [
            "trained w is : 1.0388497\n"
          ]
        }
      ],
      "source": [
        "weights = model.layers[0].get_weights()\n",
        "w = weights[0][0][0]\n",
        "\n",
        "print('trained w is : ' + str(w))"
      ]
    },
    {
      "cell_type": "markdown",
      "metadata": {
        "id": "OE7uixh3ltWE"
      },
      "source": [
        "# 선형회귀 시각화\n",
        "아래의 코드를 선형 회귀 모델을 시각화할 수 있습니다.  \n",
        "x값에 해당하는 선형 모델의 예측값이 우리가 랜덤으로 생성한 데이터 y와 상당히 비슷합니다.  \n",
        "이처럼 관찰된 데이터를 통해 얻어진 데이터 분포의 패턴을 파악하는 것을 선형 회귀라 하며,    \n",
        "이를 통해 관찰되지 않은 데이터에 대한 예측을 하는 것이 선형 회귀의 목적이라고 할 수 있습니다."
      ]
    },
    {
      "cell_type": "code",
      "execution_count": 9,
      "metadata": {
        "id": "_ugY5QJpltWE",
        "outputId": "ff5429b2-fe67-4790-cbb2-4af3c2fd81db",
        "colab": {
          "base_uri": "https://localhost:8080/",
          "height": 265
        }
      },
      "outputs": [
        {
          "output_type": "display_data",
          "data": {
            "image/png": "[encoded data removed]",
            "text/plain": [
              "<Figure size 432x288 with 1 Axes>"
            ]
          },
          "metadata": {
            "needs_background": "light"
          }
        }
      ],
      "source": [
        "plt.plot(X, Y, label='data')\n",
        "plt.plot(X, w*X, label='prediction')\n",
        "plt.legend()\n",
        "plt.show()"
      ]
    },
    {
      "cell_type": "code",
      "execution_count": 9,
      "metadata": {
        "id": "JYayLPDmltWF"
      },
      "outputs": [],
      "source": [
        ""
      ]
    }
  ],
  "metadata": {
    "kernelspec": {
      "display_name": "Python 3",
      "language": "python",
      "name": "python3"
    },
    "language_info": {
      "codemirror_mode": {
        "name": "ipython",
        "version": 3
      },
      "file_extension": ".py",
      "mimetype": "text/x-python",
      "name": "python",
      "nbconvert_exporter": "python",
      "pygments_lexer": "ipython3",
      "version": "3.7.5"
    },
    "colab": {
      "name": "4.8_선형회귀_실습.ipynb",
      "provenance": []
    }
  },
  "nbformat": 4,
  "nbformat_minor": 0
}