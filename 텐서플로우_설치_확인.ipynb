{
  "nbformat": 4,
  "nbformat_minor": 0,
  "metadata": {
    "colab": {
      "name": "텐서플로우 설치 확인.ipynb",
      "provenance": [],
      "collapsed_sections": [],
      "authorship_tag": "ABX9TyOAFNBNWkQSdpJ/7D74XUub",
      "include_colab_link": true
    },
    "kernelspec": {
      "name": "python3",
      "display_name": "Python 3"
    }
  },
  "cells": [
    {
      "cell_type": "markdown",
      "metadata": {
        "id": "view-in-github",
        "colab_type": "text"
      },
      "source": [
        "<a href=\"https://colab.research.google.com/github/aliciawill/BigData/blob/master/%ED%85%90%EC%84%9C%ED%94%8C%EB%A1%9C%EC%9A%B0_%EC%84%A4%EC%B9%98_%ED%99%95%EC%9D%B8.ipynb\" target=\"_parent\"><img src=\"https://colab.research.google.com/assets/colab-badge.svg\" alt=\"Open In Colab\"/></a>"
      ]
    },
    {
      "cell_type": "code",
      "metadata": {
        "id": "dS_mvEcN4d6L",
        "colab": {
          "base_uri": "https://localhost:8080/"
        },
        "outputId": "1d7976d5-b346-4398-8128-a2a173ab3141"
      },
      "source": [
        "import tensorflow\n",
        "from tensorflow.python.client import device_lib\n",
        "print(device_lib.list_local_devices())"
      ],
      "execution_count": 1,
      "outputs": [
        {
          "output_type": "stream",
          "name": "stdout",
          "text": [
            "[name: \"/device:CPU:0\"\n",
            "device_type: \"CPU\"\n",
            "memory_limit: 268435456\n",
            "locality {\n",
            "}\n",
            "incarnation: 13578504221165215290\n",
            "xla_global_id: -1\n",
            "]\n"
          ]
        }
      ]
    },
    {
      "cell_type": "code",
      "metadata": {
        "id": "vurBboin4fBC",
        "colab": {
          "base_uri": "https://localhost:8080/"
        },
        "outputId": "bcba84db-ab6c-4ebc-fddb-d65e557cf117"
      },
      "source": [
        "import tensorflow\n",
        "from tensorflow import keras\n",
        "import pandas\n",
        "import sklearn\n",
        "import scipy\n",
        "import numpy\n",
        "import matplotlib\n",
        "import pydotplus\n",
        "import pydot\n",
        "import h5py\n",
        "print('tensorflow ' + tensorflow.__version__)\n",
        "print('keras ' + keras.__version__)\n",
        "print('pandas ' + pandas.__version__)\n",
        "print('sklearn ' + sklearn.__version__)\n",
        "print('scipy ' + scipy.__version__)\n",
        "print('numpy ' + numpy.__version__)\n",
        "print('matplotlib ' + matplotlib.__version__)\n",
        "print('h5py ' + h5py.__version__)"
      ],
      "execution_count": 2,
      "outputs": [
        {
          "output_type": "stream",
          "name": "stdout",
          "text": [
            "tensorflow 2.7.0\n",
            "keras 2.7.0\n",
            "pandas 1.1.5\n",
            "sklearn 1.0.2\n",
            "scipy 1.4.1\n",
            "numpy 1.19.5\n",
            "matplotlib 3.2.2\n",
            "h5py 3.1.0\n"
          ]
        }
      ]
    },
    {
      "cell_type": "code",
      "metadata": {
        "id": "OujyUoo74j9B"
      },
      "source": [
        ""
      ],
      "execution_count": null,
      "outputs": []
    }
  ]
}