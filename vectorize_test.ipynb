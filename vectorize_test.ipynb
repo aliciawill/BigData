{
  "nbformat": 4,
  "nbformat_minor": 0,
  "metadata": {
    "colab": {
      "name": "vectorize-test.ipynb",
      "provenance": [],
      "collapsed_sections": [],
      "authorship_tag": "ABX9TyOysD2W1fwnei09kbjih7nG",
      "include_colab_link": true
    },
    "kernelspec": {
      "name": "python3",
      "display_name": "Python 3"
    },
    "language_info": {
      "name": "python"
    }
  },
  "cells": [
    {
      "cell_type": "markdown",
      "metadata": {
        "id": "view-in-github",
        "colab_type": "text"
      },
      "source": [
        "<a href=\"https://colab.research.google.com/github/aliciawill/BigData/blob/master/vectorize_test.ipynb\" target=\"_parent\"><img src=\"https://colab.research.google.com/assets/colab-badge.svg\" alt=\"Open In Colab\"/></a>"
      ]
    },
    {
      "cell_type": "code",
      "execution_count": 2,
      "metadata": {
        "id": "rZl-MZB_xxfv"
      },
      "outputs": [],
      "source": [
        "from sklearn.feature_extraction.text import TfidfVectorizer, CountVectorizer"
      ]
    },
    {
      "cell_type": "code",
      "source": [
        "corpus = [\"you know I want your love\",\n",
        "          \"l like you\",\n",
        "          \"what should I do\",\n",
        "          \"I hate you\",\n",
        "          \"smile face\"\n",
        "          ]"
      ],
      "metadata": {
        "id": "d5Cqbh9wyWMQ"
      },
      "execution_count": 12,
      "outputs": []
    },
    {
      "cell_type": "code",
      "source": [
        "cv = CountVectorizer()"
      ],
      "metadata": {
        "id": "AparahYC0Prk"
      },
      "execution_count": 95,
      "outputs": []
    },
    {
      "cell_type": "code",
      "source": [
        "# 1. 사전을 만들어라.!! => fit()\n",
        "# 2. 사전에 들어있는 id로 인코딩을 해라.!! => tranform()\n",
        "# 3. 1, 2을 함께 처리하고자 하는 경우는 => fit_transform()"
      ],
      "metadata": {
        "id": "WCsXLvdO0eFm"
      },
      "execution_count": null,
      "outputs": []
    },
    {
      "cell_type": "code",
      "source": [
        "cv.fit_transform(corpus).toarray()"
      ],
      "metadata": {
        "colab": {
          "base_uri": "https://localhost:8080/"
        },
        "id": "qCGDgRwq034v",
        "outputId": "116ac4f0-90a1-4dac-ab4a-fd4d873da9ed"
      },
      "execution_count": 13,
      "outputs": [
        {
          "output_type": "execute_result",
          "data": {
            "text/plain": [
              "array([[0, 0, 0, 1, 0, 1, 0, 0, 1, 0, 1, 1],\n",
              "       [0, 0, 0, 0, 1, 0, 0, 0, 0, 0, 1, 0],\n",
              "       [1, 0, 0, 0, 0, 0, 1, 0, 0, 1, 0, 0],\n",
              "       [0, 0, 1, 0, 0, 0, 0, 0, 0, 0, 1, 0],\n",
              "       [0, 1, 0, 0, 0, 0, 0, 1, 0, 0, 0, 0]])"
            ]
          },
          "metadata": {},
          "execution_count": 13
        }
      ]
    },
    {
      "cell_type": "code",
      "source": [
        "cv.vocabulary_ #사전에 무엇이 들어있는지 확인"
      ],
      "metadata": {
        "colab": {
          "base_uri": "https://localhost:8080/"
        },
        "id": "rzra-KO61Xb9",
        "outputId": "a50c9e15-df4b-49a8-d9d3-6a5891fb29ea"
      },
      "execution_count": 14,
      "outputs": [
        {
          "output_type": "execute_result",
          "data": {
            "text/plain": [
              "{'do': 0,\n",
              " 'face': 1,\n",
              " 'hate': 2,\n",
              " 'know': 3,\n",
              " 'like': 4,\n",
              " 'love': 5,\n",
              " 'should': 6,\n",
              " 'smile': 7,\n",
              " 'want': 8,\n",
              " 'what': 9,\n",
              " 'you': 10,\n",
              " 'your': 11}"
            ]
          },
          "metadata": {},
          "execution_count": 14
        }
      ]
    },
    {
      "cell_type": "code",
      "source": [
        "tfidf = TfidfVectorizer()"
      ],
      "metadata": {
        "id": "TYtLaR4W0QV1"
      },
      "execution_count": 5,
      "outputs": []
    },
    {
      "cell_type": "code",
      "source": [
        "# fit-->transform"
      ],
      "metadata": {
        "id": "peyF6GHP0ZY2"
      },
      "execution_count": null,
      "outputs": []
    },
    {
      "cell_type": "code",
      "source": [
        "tfidf.fit(corpus)"
      ],
      "metadata": {
        "colab": {
          "base_uri": "https://localhost:8080/"
        },
        "id": "_hJ6LGGv2f4O",
        "outputId": "138faaa5-0893-4601-9ffc-54db49a34d9f"
      },
      "execution_count": 15,
      "outputs": [
        {
          "output_type": "execute_result",
          "data": {
            "text/plain": [
              "TfidfVectorizer()"
            ]
          },
          "metadata": {},
          "execution_count": 15
        }
      ]
    },
    {
      "cell_type": "code",
      "source": [
        "tfidf.transform(corpus)"
      ],
      "metadata": {
        "colab": {
          "base_uri": "https://localhost:8080/"
        },
        "id": "Rlu0aTSv2mzs",
        "outputId": "82f3f875-3d48-4121-f4b0-3aa060ada30f"
      },
      "execution_count": 17,
      "outputs": [
        {
          "output_type": "execute_result",
          "data": {
            "text/plain": [
              "<5x12 sparse matrix of type '<class 'numpy.float64'>'\n",
              "\twith 14 stored elements in Compressed Sparse Row format>"
            ]
          },
          "metadata": {},
          "execution_count": 17
        }
      ]
    },
    {
      "cell_type": "code",
      "source": [
        "tfidf.transform(corpus).toarray()"
      ],
      "metadata": {
        "colab": {
          "base_uri": "https://localhost:8080/"
        },
        "id": "giovCwh227LS",
        "outputId": "ce3983bd-ff48-428f-b5a1-c991e20114d6"
      },
      "execution_count": 18,
      "outputs": [
        {
          "output_type": "execute_result",
          "data": {
            "text/plain": [
              "array([[0.        , 0.        , 0.        , 0.47412465, 0.        ,\n",
              "        0.47412465, 0.        , 0.        , 0.47412465, 0.        ,\n",
              "        0.3175268 , 0.47412465],\n",
              "       [0.        , 0.        , 0.        , 0.        , 0.83088075,\n",
              "        0.        , 0.        , 0.        , 0.        , 0.        ,\n",
              "        0.55645052, 0.        ],\n",
              "       [0.57735027, 0.        , 0.        , 0.        , 0.        ,\n",
              "        0.        , 0.57735027, 0.        , 0.        , 0.57735027,\n",
              "        0.        , 0.        ],\n",
              "       [0.        , 0.        , 0.83088075, 0.        , 0.        ,\n",
              "        0.        , 0.        , 0.        , 0.        , 0.        ,\n",
              "        0.55645052, 0.        ],\n",
              "       [0.        , 0.70710678, 0.        , 0.        , 0.        ,\n",
              "        0.        , 0.        , 0.70710678, 0.        , 0.        ,\n",
              "        0.        , 0.        ]])"
            ]
          },
          "metadata": {},
          "execution_count": 18
        }
      ]
    },
    {
      "cell_type": "code",
      "source": [
        "sentence = [\"i like like like hate smile\"]"
      ],
      "metadata": {
        "id": "AwlUlS5I2fgc"
      },
      "execution_count": 19,
      "outputs": []
    },
    {
      "cell_type": "code",
      "source": [
        "nd2array = cv.transform(sentence).toarray()\n",
        "nd2array "
      ],
      "metadata": {
        "colab": {
          "base_uri": "https://localhost:8080/"
        },
        "id": "YJa3grrL2PCp",
        "outputId": "aa0c0a8e-c0cc-406c-deea-c03ea21c38ec"
      },
      "execution_count": 22,
      "outputs": [
        {
          "output_type": "execute_result",
          "data": {
            "text/plain": [
              "array([[0, 0, 1, 0, 3, 0, 0, 1, 0, 0, 0, 0]])"
            ]
          },
          "metadata": {},
          "execution_count": 22
        }
      ]
    },
    {
      "cell_type": "code",
      "source": [
        "nd2array[0]"
      ],
      "metadata": {
        "colab": {
          "base_uri": "https://localhost:8080/"
        },
        "id": "fu9aKRSI3Oqf",
        "outputId": "5751a36f-fc3c-417c-add7-85325cd1a86c"
      },
      "execution_count": 23,
      "outputs": [
        {
          "output_type": "execute_result",
          "data": {
            "text/plain": [
              "array([0, 0, 1, 0, 3, 0, 0, 1, 0, 0, 0, 0])"
            ]
          },
          "metadata": {},
          "execution_count": 23
        }
      ]
    },
    {
      "cell_type": "code",
      "source": [
        "nd2array2 = tfidf.transform(sentence).toarray()\n",
        "nd2array2 "
      ],
      "metadata": {
        "colab": {
          "base_uri": "https://localhost:8080/"
        },
        "id": "6Qo455Gz3diV",
        "outputId": "12374655-87b3-4082-e754-9887c1545d0d"
      },
      "execution_count": 24,
      "outputs": [
        {
          "output_type": "execute_result",
          "data": {
            "text/plain": [
              "array([[0.        , 0.        , 0.30151134, 0.        , 0.90453403,\n",
              "        0.        , 0.        , 0.30151134, 0.        , 0.        ,\n",
              "        0.        , 0.        ]])"
            ]
          },
          "metadata": {},
          "execution_count": 24
        }
      ]
    },
    {
      "cell_type": "code",
      "source": [
        "cv.inverse_transform(nd2array)"
      ],
      "metadata": {
        "colab": {
          "base_uri": "https://localhost:8080/"
        },
        "id": "EVA5B1cw4ArO",
        "outputId": "ff5aa76d-36bf-4abe-a688-058a8e5495b6"
      },
      "execution_count": 25,
      "outputs": [
        {
          "output_type": "execute_result",
          "data": {
            "text/plain": [
              "[array(['hate', 'like', 'smile'], dtype='<U6')]"
            ]
          },
          "metadata": {},
          "execution_count": 25
        }
      ]
    },
    {
      "cell_type": "code",
      "source": [
        "tfidf.inverse_transform(nd2array2)"
      ],
      "metadata": {
        "colab": {
          "base_uri": "https://localhost:8080/"
        },
        "id": "bE0zOWo_4Q5n",
        "outputId": "7c1d6bf6-d565-407f-9b8d-5f3fa3709061"
      },
      "execution_count": 26,
      "outputs": [
        {
          "output_type": "execute_result",
          "data": {
            "text/plain": [
              "[array(['hate', 'like', 'smile'], dtype='<U6')]"
            ]
          },
          "metadata": {},
          "execution_count": 26
        }
      ]
    },
    {
      "cell_type": "code",
      "source": [
        "feature_list = cv.get_feature_names() #사전에 무엇이 들어있는지 확인\n",
        "feature_list"
      ],
      "metadata": {
        "colab": {
          "base_uri": "https://localhost:8080/"
        },
        "id": "H-C05HOY4VNg",
        "outputId": "5803f114-a0e6-470c-f238-3ca8ca7dfe1d"
      },
      "execution_count": 29,
      "outputs": [
        {
          "output_type": "stream",
          "name": "stderr",
          "text": [
            "/usr/local/lib/python3.7/dist-packages/sklearn/utils/deprecation.py:87: FutureWarning: Function get_feature_names is deprecated; get_feature_names is deprecated in 1.0 and will be removed in 1.2. Please use get_feature_names_out instead.\n",
            "  warnings.warn(msg, category=FutureWarning)\n"
          ]
        },
        {
          "output_type": "execute_result",
          "data": {
            "text/plain": [
              "['do',\n",
              " 'face',\n",
              " 'hate',\n",
              " 'know',\n",
              " 'like',\n",
              " 'love',\n",
              " 'should',\n",
              " 'smile',\n",
              " 'want',\n",
              " 'what',\n",
              " 'you',\n",
              " 'your']"
            ]
          },
          "metadata": {},
          "execution_count": 29
        }
      ]
    },
    {
      "cell_type": "code",
      "source": [
        "# dic <--- list\n",
        "dictionary = dict()"
      ],
      "metadata": {
        "id": "HFUjWdOd4f_I"
      },
      "execution_count": 30,
      "outputs": []
    },
    {
      "cell_type": "code",
      "source": [
        "for index, element in enumerate(feature_list):\n",
        "  dictionary[index] = element\n",
        "dictionary"
      ],
      "metadata": {
        "colab": {
          "base_uri": "https://localhost:8080/"
        },
        "id": "_BoOwwD45uXn",
        "outputId": "b6c171a3-9b9c-4a79-9b49-32257c9323d1"
      },
      "execution_count": 32,
      "outputs": [
        {
          "output_type": "execute_result",
          "data": {
            "text/plain": [
              "{0: 'do',\n",
              " 1: 'face',\n",
              " 2: 'hate',\n",
              " 3: 'know',\n",
              " 4: 'like',\n",
              " 5: 'love',\n",
              " 6: 'should',\n",
              " 7: 'smile',\n",
              " 8: 'want',\n",
              " 9: 'what',\n",
              " 10: 'you',\n",
              " 11: 'your'}"
            ]
          },
          "metadata": {},
          "execution_count": 32
        }
      ]
    },
    {
      "cell_type": "code",
      "source": [
        "## 스팸을 나타내는 사전을 만들어주세요.(10개)\n",
        "## 스팸이 아닌 사전을 만들어주세요.(10개)"
      ],
      "metadata": {
        "id": "TrjOxg8e6Kax"
      },
      "execution_count": 33,
      "outputs": []
    },
    {
      "cell_type": "code",
      "source": [
        "spam_dict = [\"advertise\", \"promotion\", \"sales\", \"hu\", \"special\", \"sale\",\"member\", \"company\"]\n",
        "ham_dict = [\"order\", \"confirm\", \"check\", \"customer\", \"payment\", \"send\", \"general\", \"club\"]"
      ],
      "metadata": {
        "id": "wf8S0r2u-Uvl"
      },
      "execution_count": 96,
      "outputs": []
    },
    {
      "cell_type": "code",
      "source": [
        "cv.fit(spam_dict)"
      ],
      "metadata": {
        "colab": {
          "base_uri": "https://localhost:8080/"
        },
        "id": "kVbPfZok_LsH",
        "outputId": "d283f068-b7a8-4440-be43-b7ba4433ea90"
      },
      "execution_count": 97,
      "outputs": [
        {
          "output_type": "execute_result",
          "data": {
            "text/plain": [
              "CountVectorizer()"
            ]
          },
          "metadata": {},
          "execution_count": 97
        }
      ]
    },
    {
      "cell_type": "code",
      "source": [
        "cv.vocabulary_"
      ],
      "metadata": {
        "colab": {
          "base_uri": "https://localhost:8080/"
        },
        "id": "6eKnZNPwBcnl",
        "outputId": "d18226a3-5633-40d1-c8bc-1d049c98dcee"
      },
      "execution_count": 98,
      "outputs": [
        {
          "output_type": "execute_result",
          "data": {
            "text/plain": [
              "{'advertise': 0,\n",
              " 'company': 1,\n",
              " 'hu': 2,\n",
              " 'member': 3,\n",
              " 'promotion': 4,\n",
              " 'sale': 5,\n",
              " 'sales': 6,\n",
              " 'special': 7}"
            ]
          },
          "metadata": {},
          "execution_count": 98
        }
      ]
    },
    {
      "cell_type": "code",
      "source": [
        "## 광고!! 짱 좋은 판매 홍보전략입니다.!! => 스팸입니다.!!"
      ],
      "metadata": {
        "id": "P1ovRABo67gQ"
      },
      "execution_count": 67,
      "outputs": []
    },
    {
      "cell_type": "code",
      "source": [
        "email = [\" promotion !! hu good sales sale check payment\"]"
      ],
      "metadata": {
        "id": "CK00y6cG_idn"
      },
      "execution_count": 99,
      "outputs": []
    },
    {
      "cell_type": "code",
      "source": [
        "result1 = cv.transform(email).toarray()\n",
        "result1"
      ],
      "metadata": {
        "colab": {
          "base_uri": "https://localhost:8080/"
        },
        "id": "anMpCnWf_k-x",
        "outputId": "4040acde-f4d4-43b1-fe4c-e8c7f4951b70"
      },
      "execution_count": 100,
      "outputs": [
        {
          "output_type": "execute_result",
          "data": {
            "text/plain": [
              "array([[0, 0, 1, 0, 1, 1, 1, 0]])"
            ]
          },
          "metadata": {},
          "execution_count": 100
        }
      ]
    },
    {
      "cell_type": "code",
      "source": [
        "cv.fit(ham_dict)"
      ],
      "metadata": {
        "colab": {
          "base_uri": "https://localhost:8080/"
        },
        "id": "P_CZgjGo_tdw",
        "outputId": "f301cbb4-b683-40f5-dfa5-77aed38483c0"
      },
      "execution_count": 102,
      "outputs": [
        {
          "output_type": "execute_result",
          "data": {
            "text/plain": [
              "CountVectorizer()"
            ]
          },
          "metadata": {},
          "execution_count": 102
        }
      ]
    },
    {
      "cell_type": "code",
      "source": [
        "cv.vocabulary_"
      ],
      "metadata": {
        "colab": {
          "base_uri": "https://localhost:8080/"
        },
        "id": "gEvWTrYeAcTw",
        "outputId": "faf1e9be-4fda-4105-ad27-41943b205b44"
      },
      "execution_count": 103,
      "outputs": [
        {
          "output_type": "execute_result",
          "data": {
            "text/plain": [
              "{'check': 0,\n",
              " 'club': 1,\n",
              " 'confirm': 2,\n",
              " 'customer': 3,\n",
              " 'general': 4,\n",
              " 'order': 5,\n",
              " 'payment': 6,\n",
              " 'send': 7}"
            ]
          },
          "metadata": {},
          "execution_count": 103
        }
      ]
    },
    {
      "cell_type": "code",
      "source": [
        "result2 = cv.transform(email).toarray()\n",
        "result2"
      ],
      "metadata": {
        "colab": {
          "base_uri": "https://localhost:8080/"
        },
        "id": "_E3IVjOaCDmr",
        "outputId": "3c22c8af-3df7-4be0-92f9-c48acb73dc7b"
      },
      "execution_count": 104,
      "outputs": [
        {
          "output_type": "execute_result",
          "data": {
            "text/plain": [
              "array([[1, 0, 0, 0, 0, 0, 1, 0]])"
            ]
          },
          "metadata": {},
          "execution_count": 104
        }
      ]
    },
    {
      "cell_type": "code",
      "source": [
        "## result1의 0이 아닌 갯수의 합, result2의 0이 아닌 갯수의 합\n",
        "result1_count = 0\n",
        "result2_count = 0"
      ],
      "metadata": {
        "id": "Ah_t8z4sDyNb"
      },
      "execution_count": 83,
      "outputs": []
    },
    {
      "cell_type": "code",
      "source": [
        "type(result1)"
      ],
      "metadata": {
        "colab": {
          "base_uri": "https://localhost:8080/"
        },
        "id": "nQ6KfSCLEoZR",
        "outputId": "419379e9-b405-4d9c-c642-9d5ea1644ccc"
      },
      "execution_count": 90,
      "outputs": [
        {
          "output_type": "execute_result",
          "data": {
            "text/plain": [
              "numpy.ndarray"
            ]
          },
          "metadata": {},
          "execution_count": 90
        }
      ]
    },
    {
      "cell_type": "code",
      "source": [
        "for item in result1[0]:\n",
        "  # print(item > 0)\n",
        "  if (item != 0):\n",
        "    result1_count = result1_count + 1\n",
        "result1_count"
      ],
      "metadata": {
        "colab": {
          "base_uri": "https://localhost:8080/"
        },
        "id": "AIQgHIMYEPN1",
        "outputId": "23c63273-8dee-49e5-9083-5f5fcb4eee02"
      },
      "execution_count": 101,
      "outputs": [
        {
          "output_type": "execute_result",
          "data": {
            "text/plain": [
              "6"
            ]
          },
          "metadata": {},
          "execution_count": 101
        }
      ]
    },
    {
      "cell_type": "code",
      "source": [
        "for item in result2[0]:\n",
        "  # print(item > 0)\n",
        "  if (item != 0):\n",
        "    result2_count = result2_count + 1\n",
        "result2_count"
      ],
      "metadata": {
        "colab": {
          "base_uri": "https://localhost:8080/"
        },
        "id": "WjKIlR5cFFZ5",
        "outputId": "5a3f611d-6a20-4c64-86f7-ca1bc5f83c8a"
      },
      "execution_count": 105,
      "outputs": [
        {
          "output_type": "execute_result",
          "data": {
            "text/plain": [
              "4"
            ]
          },
          "metadata": {},
          "execution_count": 105
        }
      ]
    },
    {
      "cell_type": "code",
      "source": [
        "spam_dict2 = [\"광고\", \"홍보\", \"판매\", \"허경영\", \"특가\", \"세일\",\"회원\", \"회사\"]\n",
        "ham_dict2 = [\"주문\", \"확인\", \"체크\", \"고객\", \"지불\", \"배송\", \"일반\", \"동호회\"]"
      ],
      "metadata": {
        "id": "G48cPcQfCILj"
      },
      "execution_count": 106,
      "outputs": []
    },
    {
      "cell_type": "code",
      "source": [
        "cv2 = CountVectorizer()"
      ],
      "metadata": {
        "id": "TvcWx1XAC8u1"
      },
      "execution_count": 114,
      "outputs": []
    },
    {
      "cell_type": "code",
      "source": [
        "cv2.fit(spam_dict2)"
      ],
      "metadata": {
        "colab": {
          "base_uri": "https://localhost:8080/"
        },
        "id": "NEbSBMxDDD1p",
        "outputId": "be0bf815-178d-454a-a1a8-3694c509f162"
      },
      "execution_count": 115,
      "outputs": [
        {
          "output_type": "execute_result",
          "data": {
            "text/plain": [
              "CountVectorizer()"
            ]
          },
          "metadata": {},
          "execution_count": 115
        }
      ]
    },
    {
      "cell_type": "code",
      "source": [
        "email2 = [\" 광고 !! 허경영 good 세일 확인 지불\"]"
      ],
      "metadata": {
        "id": "nk057WdWDLMP"
      },
      "execution_count": 116,
      "outputs": []
    },
    {
      "cell_type": "code",
      "source": [
        "result3 = cv2.transform(email2).toarray()\n",
        "result3"
      ],
      "metadata": {
        "colab": {
          "base_uri": "https://localhost:8080/"
        },
        "id": "AHMwu3T2DIg5",
        "outputId": "3724e736-0042-4978-9cff-a60f115ce5f3"
      },
      "execution_count": 117,
      "outputs": [
        {
          "output_type": "execute_result",
          "data": {
            "text/plain": [
              "array([[1, 1, 0, 0, 1, 0, 0, 0]])"
            ]
          },
          "metadata": {},
          "execution_count": 117
        }
      ]
    },
    {
      "cell_type": "code",
      "source": [
        "cv2.fit(ham_dict2)"
      ],
      "metadata": {
        "colab": {
          "base_uri": "https://localhost:8080/"
        },
        "id": "5Lxf-AeaDZSC",
        "outputId": "5dd73e59-3eb4-4f0e-b4ad-0e3999260b28"
      },
      "execution_count": 118,
      "outputs": [
        {
          "output_type": "execute_result",
          "data": {
            "text/plain": [
              "CountVectorizer()"
            ]
          },
          "metadata": {},
          "execution_count": 118
        }
      ]
    },
    {
      "cell_type": "code",
      "source": [
        "result4 = cv2.transform(email2).toarray()\n",
        "result4"
      ],
      "metadata": {
        "colab": {
          "base_uri": "https://localhost:8080/"
        },
        "id": "uY1uCQ0ZDf3K",
        "outputId": "aaa7dd92-6f3e-4d3f-edcc-b309e3fe03f8"
      },
      "execution_count": 119,
      "outputs": [
        {
          "output_type": "execute_result",
          "data": {
            "text/plain": [
              "array([[0, 0, 0, 0, 0, 1, 0, 1]])"
            ]
          },
          "metadata": {},
          "execution_count": 119
        }
      ]
    },
    {
      "cell_type": "code",
      "source": [
        "result3_count = 0\n",
        "result4_count = 0"
      ],
      "metadata": {
        "id": "IFXZKi6WDiND"
      },
      "execution_count": 120,
      "outputs": []
    },
    {
      "cell_type": "code",
      "source": [
        "for item in result3[0]:\n",
        "  # print(item > 0)\n",
        "  if (item != 0):\n",
        "    result3_count = result3_count + 1\n",
        "result3_count\n",
        "\n",
        "for item in result4[0]:\n",
        "  # print(item > 0)\n",
        "  if (item != 0):\n",
        "    result4_count = result4_count + 1\n",
        "print(result3_count, result4_count)"
      ],
      "metadata": {
        "colab": {
          "base_uri": "https://localhost:8080/"
        },
        "id": "dHgmWgazF7Si",
        "outputId": "57d7f10e-e4d5-47e1-e012-462f17161762"
      },
      "execution_count": 121,
      "outputs": [
        {
          "output_type": "stream",
          "name": "stdout",
          "text": [
            "3 2\n"
          ]
        }
      ]
    },
    {
      "cell_type": "code",
      "source": [
        "[i for i in result4[0] if i != 0]"
      ],
      "metadata": {
        "colab": {
          "base_uri": "https://localhost:8080/"
        },
        "id": "dgM-lHHdNTeu",
        "outputId": "583fd117-a375-4f78-8486-4313c3eae73e"
      },
      "execution_count": 127,
      "outputs": [
        {
          "output_type": "execute_result",
          "data": {
            "text/plain": [
              "[1, 1]"
            ]
          },
          "metadata": {},
          "execution_count": 127
        }
      ]
    },
    {
      "cell_type": "code",
      "source": [
        "sum([i for i in result4[0] if i != 0])"
      ],
      "metadata": {
        "colab": {
          "base_uri": "https://localhost:8080/"
        },
        "id": "NbM21pPgN9Ff",
        "outputId": "ce2e47af-ac78-4fea-9d9a-144a1f99c816"
      },
      "execution_count": 128,
      "outputs": [
        {
          "output_type": "execute_result",
          "data": {
            "text/plain": [
              "2"
            ]
          },
          "metadata": {},
          "execution_count": 128
        }
      ]
    },
    {
      "cell_type": "code",
      "source": [
        "[i for i in result3[0] if i != 0]"
      ],
      "metadata": {
        "colab": {
          "base_uri": "https://localhost:8080/"
        },
        "id": "RsTMMu9iNvDk",
        "outputId": "838fabf7-0a8c-4b35-f32e-f3151e548a75"
      },
      "execution_count": 125,
      "outputs": [
        {
          "output_type": "execute_result",
          "data": {
            "text/plain": [
              "[1, 1, 1]"
            ]
          },
          "metadata": {},
          "execution_count": 125
        }
      ]
    },
    {
      "cell_type": "code",
      "source": [
        "## 감정분류기\n",
        "# 긍정/부정 사전을 만들어보세요.\n",
        "# input()이용해서, 문장을 받으면, 긍정인지 부정인지 판단해보세요.\n",
        "# if-idf vectorizer를 사용해주세요."
      ],
      "metadata": {
        "id": "I6KSEAYtGNPh"
      },
      "execution_count": null,
      "outputs": []
    },
    {
      "cell_type": "code",
      "source": [
        ""
      ],
      "metadata": {
        "id": "yGi_fxw4_6R6"
      },
      "execution_count": null,
      "outputs": []
    }
  ]
}