{
  "nbformat": 4,
  "nbformat_minor": 0,
  "metadata": {
    "colab": {
      "name": "(3-3)임정원 - (데사 완주반) 4주차_과제.ipynb의 사본",
      "provenance": [],
      "collapsed_sections": [],
      "include_colab_link": true
    },
    "kernelspec": {
      "name": "python3",
      "display_name": "Python 3"
    }
  },
  "cells": [
    {
      "cell_type": "markdown",
      "metadata": {
        "id": "view-in-github",
        "colab_type": "text"
      },
      "source": [
        "<a href=\"https://colab.research.google.com/github/aliciawill/BigData/blob/master/(3_3)%EC%9E%84%EC%A0%95%EC%9B%90_(%EB%8D%B0%EC%82%AC_%EC%99%84%EC%A3%BC%EB%B0%98)_4%EC%A3%BC%EC%B0%A8_%EA%B3%BC%EC%A0%9C_ipynb%EC%9D%98_%EC%82%AC%EB%B3%B8.ipynb\" target=\"_parent\"><img src=\"https://colab.research.google.com/assets/colab-badge.svg\" alt=\"Open In Colab\"/></a>"
      ]
    },
    {
      "cell_type": "markdown",
      "metadata": {
        "id": "ixoozrP1zLbO"
      },
      "source": [
        "## [4주차] PCA를 통해 신체 지수 만들기\n",
        "\n",
        "- sklearn의 Linnerrud 데이터셋은 피트니스 클럽의 20대 중반 남성 20명에 대해 \n",
        "턱걸이, 윗몸일으키기, 점프 / 체중, 허리둘레, 맥박을 측정한 자료입니다.\n",
        "  - ##### 요구사항1) Linnerrud 데이터셋의 상세 설명을 print 하세요\n",
        "    - ##### *힌트1) .DESCR을 통해 데이터셋에 대한 설명을 알 수 있다.*\n",
        "  \n",
        "  - ##### 요구사항2) data와 target 매서드의 데이터를 모두 병합해 total이란 변수에 저장해주세요. [Chins, Situps, Jumps, Weight, Waist and Pulse] 순\n",
        "    - ##### *힌트2) np.stack (vstack과 hstack 중 알맞은 것을 선택)\n",
        "\n",
        "  - ##### 요구사항3) total 데이터를 1개의 차원으로 축소해 하나의 신체 지수를 body_index에 저장해주세요.\n",
        "\n",
        "  - ##### 요구사항4) body_index를 다시 복원한 data를 recovered_data에 저장하고 total과 recovered_data를 각각 출력하세요\n",
        "\n",
        " - ##### 요구사항5) pca 변환을 통해 total의 분산을 몇% 나타내는지 explained_variance 변수에 저장하고 이를 소수 둘째 자리에서 반올림해 출력하세요.\n",
        "  - * 힌트4) pca.explained_variance_ratio*\n",
        "  - * 힌트5) type에러가 왜 발생하고, 어떻게 해결할 수 있을지 고민해보세요.\n",
        "\n"
      ]
    },
    {
      "cell_type": "code",
      "metadata": {
        "id": "DRiy8Vl_E6Yl"
      },
      "source": [
        ""
      ],
      "execution_count": null,
      "outputs": []
    },
    {
      "cell_type": "markdown",
      "metadata": {
        "id": "WLCTACu1zJdA"
      },
      "source": [
        "  - ##### 요구사항1) Linnerrud 데이터셋의 상세 설명을 print 하세요\n",
        "    - ##### *힌트1) .DESCR을 통해 데이터셋에 대한 설명을 알 수 있다.*"
      ]
    },
    {
      "cell_type": "code",
      "metadata": {
        "id": "6Qn3VQzPzEsi",
        "colab": {
          "base_uri": "https://localhost:8080/"
        },
        "outputId": "a810acf7-e887-4c76-e6d2-77830f0b3c3a"
      },
      "source": [
        "# 여기에 코드를 작성해주세요.\n",
        "\n",
        "from sklearn.datasets import load_linnerud\n",
        "from sklearn.decomposition import PCA\n",
        "import numpy as np\n",
        "import pandas as pd\n",
        "\n",
        "ll = load_linnerud()\n",
        "\n",
        "\n",
        "\n",
        "### ------------ 위는 수정하지 마세요---------- ###\n",
        "# 문제의 조건에 맞게 아래 빈 코드를 완성해주세요 #\n",
        "\n",
        "# 요구사항1.\n",
        "print(ll.DESCR)"
      ],
      "execution_count": null,
      "outputs": [
        {
          "output_type": "stream",
          "text": [
            ".. _linnerrud_dataset:\n",
            "\n",
            "Linnerrud dataset\n",
            "-----------------\n",
            "\n",
            "**Data Set Characteristics:**\n",
            "\n",
            "    :Number of Instances: 20\n",
            "    :Number of Attributes: 3\n",
            "    :Missing Attribute Values: None\n",
            "\n",
            "The Linnerud dataset constains two small dataset:\n",
            "\n",
            "- *physiological* - CSV containing 20 observations on 3 exercise variables:\n",
            "   Weight, Waist and Pulse.\n",
            "\n",
            "- *exercise* - CSV containing 20 observations on 3 physiological variables:\n",
            "   Chins, Situps and Jumps.\n",
            "\n",
            ".. topic:: References\n",
            "\n",
            "  * Tenenhaus, M. (1998). La regression PLS: theorie et pratique. Paris: Editions Technic.\n",
            "\n"
          ],
          "name": "stdout"
        }
      ]
    },
    {
      "cell_type": "markdown",
      "metadata": {
        "id": "5fh195q0zgjr"
      },
      "source": [
        "  - ##### 요구사항2) data와 target 매서드의 데이터를 모두 병합해 total이란 변수에 저장해주세요. [Chins, Situps, Jumps, Weight, Waist and Pulse] 순\n",
        "    - ##### *힌트2) np.stack (vstack과 hstack 중 알맞은 것을 선택)"
      ]
    },
    {
      "cell_type": "code",
      "metadata": {
        "colab": {
          "base_uri": "https://localhost:8080/"
        },
        "id": "md0XqGBbZtlV",
        "outputId": "9c08ca37-6d94-4d3e-bf1b-0b798e2a4708"
      },
      "source": [
        "# 요구사항2\n",
        "total = np.hstack((ll['data'], ll['target'])) \n",
        "\n",
        "print(total)"
      ],
      "execution_count": null,
      "outputs": [
        {
          "output_type": "stream",
          "text": [
            "[[  5. 162.  60. 191.  36.  50.]\n",
            " [  2. 110.  60. 189.  37.  52.]\n",
            " [ 12. 101. 101. 193.  38.  58.]\n",
            " [ 12. 105.  37. 162.  35.  62.]\n",
            " [ 13. 155.  58. 189.  35.  46.]\n",
            " [  4. 101.  42. 182.  36.  56.]\n",
            " [  8. 101.  38. 211.  38.  56.]\n",
            " [  6. 125.  40. 167.  34.  60.]\n",
            " [ 15. 200.  40. 176.  31.  74.]\n",
            " [ 17. 251. 250. 154.  33.  56.]\n",
            " [ 17. 120.  38. 169.  34.  50.]\n",
            " [ 13. 210. 115. 166.  33.  52.]\n",
            " [ 14. 215. 105. 154.  34.  64.]\n",
            " [  1.  50.  50. 247.  46.  50.]\n",
            " [  6.  70.  31. 193.  36.  46.]\n",
            " [ 12. 210. 120. 202.  37.  62.]\n",
            " [  4.  60.  25. 176.  37.  54.]\n",
            " [ 11. 230.  80. 157.  32.  52.]\n",
            " [ 15. 225.  73. 156.  33.  54.]\n",
            " [  2. 110.  43. 138.  33.  68.]]\n"
          ],
          "name": "stdout"
        }
      ]
    },
    {
      "cell_type": "markdown",
      "metadata": {
        "id": "mj-AxA2qzff2"
      },
      "source": [
        "  - ##### 요구사항3) total 데이터를 1개의 차원으로 축소해 하나의 신체 지수를 body_index에 저장해주세요."
      ]
    },
    {
      "cell_type": "code",
      "metadata": {
        "colab": {
          "base_uri": "https://localhost:8080/"
        },
        "id": "NUIF75Zwakwe",
        "outputId": "200fc168-7673-4cb8-bfdb-531fd228779b"
      },
      "source": [
        "pca1 = PCA(n_components=1)\n",
        "X_low = pca1.fit_transform(total)\n",
        "X2 = pca1.inverse_transform(X_low)\n",
        "print(X_low)\n",
        "print(X2)"
      ],
      "execution_count": null,
      "outputs": [
        {
          "output_type": "stream",
          "text": [
            "[[  4.84819239]\n",
            " [-36.37337868]\n",
            " [-19.71530279]\n",
            " [-48.87880057]\n",
            " [ -1.24439301]\n",
            " [-52.7513643 ]\n",
            " [-59.41274725]\n",
            " [-32.28039126]\n",
            " [ 26.78843143]\n",
            " [192.82401404]\n",
            " [-37.38376798]\n",
            " [ 79.442903  ]\n",
            " [ 79.6880306 ]\n",
            " [-99.21237644]\n",
            " [-85.61627864]\n",
            " [ 76.83255115]\n",
            " [-94.42592828]\n",
            " [ 76.29783425]\n",
            " [ 68.59828074]\n",
            " [-38.02550839]]\n",
            "[[  9.68240123 149.40974964  73.12363867 177.85161938  35.28616082\n",
            "   56.1855779 ]\n",
            " [  7.70641862 116.59237538  49.11575846 184.21469709  36.2540741\n",
            "   55.45795509]\n",
            " [  8.50493424 129.85422583  58.81759854 181.64330962  35.86293004\n",
            "   55.75199522]\n",
            " [  7.10696316 106.63654159  41.83246811 186.1450692   36.54771075\n",
            "   55.23721556]\n",
            " [  9.39034922 144.55931212  69.57525231 178.79208801  35.42921928\n",
            "   56.07803459]\n",
            " [  6.92132931 103.55351078  39.57704592 186.74284904  36.63864144\n",
            "   55.16885898]\n",
            " [  6.60201163  98.25024137  35.69738584 187.77111885  36.79505568\n",
            "   55.05127554]\n",
            " [  7.90261862 119.8508902   51.49955775 183.58289203  36.1579677\n",
            "   55.53020248]\n",
            " [ 10.73412075 166.87684314  85.9018666  174.46486234  34.77098762\n",
            "   56.57285616]\n",
            " [ 18.69314353 299.06132114 182.60275097 148.83514259  30.87234812\n",
            "   59.50363423]\n",
            " [  7.65798496 115.78798285  48.52729701 184.37066362  36.2777988\n",
            "   55.4401202 ]\n",
            " [ 13.25814681 208.79619397 116.56838932 166.33696994  33.5346213\n",
            "   57.50228687]\n",
            " [ 13.26989716 208.9913453  116.71115423 166.29913135  33.52886552\n",
            "   57.50661375]\n",
            " [  4.69419072  66.56490544  12.51765966 193.91470161  37.7295807\n",
            "   54.34875215]\n",
            " [  5.34592844  77.38904966  20.43617123 191.8159697   37.41033417\n",
            "   54.58874375]\n",
            " [ 13.13301791 206.71803705 115.04809272 166.7399112   33.59591431\n",
            "   57.45621023]\n",
            " [  4.9236322   70.37549919  15.30533784 193.175852    37.61719133\n",
            "   54.43324017]\n",
            " [ 13.10738592 206.29233749 114.73666792 166.8224516   33.60846986\n",
            "   57.44677168]\n",
            " [ 12.73830285 200.16255828 110.25236629 168.01097635  33.78926113\n",
            "   57.31086296]\n",
            " [  7.62722272 115.27707959  48.15354059 184.46972448  36.29286734\n",
            "   55.42879251]]\n"
          ],
          "name": "stdout"
        }
      ]
    },
    {
      "cell_type": "code",
      "metadata": {
        "colab": {
          "base_uri": "https://localhost:8080/"
        },
        "id": "UNsFaeOBc7SS",
        "outputId": "991b020f-e49d-41ea-afab-f3585f6ef6d2"
      },
      "source": [
        "import pandas as pd\n",
        "df = pd.DataFrame(X2)\n",
        "print(df)"
      ],
      "execution_count": null,
      "outputs": [
        {
          "output_type": "stream",
          "text": [
            "            0           1           2           3          4          5\n",
            "0    9.682401  149.409750   73.123639  177.851619  35.286161  56.185578\n",
            "1    7.706419  116.592375   49.115758  184.214697  36.254074  55.457955\n",
            "2    8.504934  129.854226   58.817599  181.643310  35.862930  55.751995\n",
            "3    7.106963  106.636542   41.832468  186.145069  36.547711  55.237216\n",
            "4    9.390349  144.559312   69.575252  178.792088  35.429219  56.078035\n",
            "5    6.921329  103.553511   39.577046  186.742849  36.638641  55.168859\n",
            "6    6.602012   98.250241   35.697386  187.771119  36.795056  55.051276\n",
            "7    7.902619  119.850890   51.499558  183.582892  36.157968  55.530202\n",
            "8   10.734121  166.876843   85.901867  174.464862  34.770988  56.572856\n",
            "9   18.693144  299.061321  182.602751  148.835143  30.872348  59.503634\n",
            "10   7.657985  115.787983   48.527297  184.370664  36.277799  55.440120\n",
            "11  13.258147  208.796194  116.568389  166.336970  33.534621  57.502287\n",
            "12  13.269897  208.991345  116.711154  166.299131  33.528866  57.506614\n",
            "13   4.694191   66.564905   12.517660  193.914702  37.729581  54.348752\n",
            "14   5.345928   77.389050   20.436171  191.815970  37.410334  54.588744\n",
            "15  13.133018  206.718037  115.048093  166.739911  33.595914  57.456210\n",
            "16   4.923632   70.375499   15.305338  193.175852  37.617191  54.433240\n",
            "17  13.107386  206.292337  114.736668  166.822452  33.608470  57.446772\n",
            "18  12.738303  200.162558  110.252366  168.010976  33.789261  57.310863\n",
            "19   7.627223  115.277080   48.153541  184.469724  36.292867  55.428793\n"
          ],
          "name": "stdout"
        }
      ]
    },
    {
      "cell_type": "code",
      "metadata": {
        "colab": {
          "base_uri": "https://localhost:8080/"
        },
        "id": "GEeyUUm6dD_T",
        "outputId": "f888bfdc-955e-44ac-f4c3-8bc03a6ff14c"
      },
      "source": [
        "body_index = df.index\n",
        "print(body_index)"
      ],
      "execution_count": null,
      "outputs": [
        {
          "output_type": "stream",
          "text": [
            "RangeIndex(start=0, stop=20, step=1)\n"
          ],
          "name": "stdout"
        }
      ]
    },
    {
      "cell_type": "code",
      "metadata": {
        "id": "mUsSwIwBzOZa",
        "colab": {
          "base_uri": "https://localhost:8080/",
          "height": 130
        },
        "outputId": "c29fd14b-df8b-49d4-8d47-cdd3a7b5376c"
      },
      "source": [
        "#요구사항3.\n",
        "body_index = df[0]\n",
        "print(body_index)"
      ],
      "execution_count": null,
      "outputs": [
        {
          "output_type": "error",
          "ename": "SyntaxError",
          "evalue": "ignored",
          "traceback": [
            "\u001b[0;36m  File \u001b[0;32m\"<ipython-input-15-3c01272132ea>\"\u001b[0;36m, line \u001b[0;32m4\u001b[0m\n\u001b[0;31m    body_index =\u001b[0m\n\u001b[0m                 ^\u001b[0m\n\u001b[0;31mSyntaxError\u001b[0m\u001b[0;31m:\u001b[0m invalid syntax\n"
          ]
        }
      ]
    },
    {
      "cell_type": "markdown",
      "metadata": {
        "id": "Uoc9tsKCFHEu"
      },
      "source": [
        "  - ##### 요구사항4) body_index를 다시 복원한 data를 recovered_data에 저장하고 total과 recovered_data를 각각 출력하세요"
      ]
    },
    {
      "cell_type": "code",
      "metadata": {
        "colab": {
          "base_uri": "https://localhost:8080/",
          "height": 130
        },
        "id": "nz6Rj2DDFG1I",
        "outputId": "fbd3427e-9592-426e-ba80-02f735db9fe4"
      },
      "source": [
        "#요구사항4\n",
        "\n",
        "recovered_data = \n",
        "print(total)\n",
        "print(recovered_data)"
      ],
      "execution_count": null,
      "outputs": [
        {
          "output_type": "error",
          "ename": "SyntaxError",
          "evalue": "ignored",
          "traceback": [
            "\u001b[0;36m  File \u001b[0;32m\"<ipython-input-16-a9ff562817d9>\"\u001b[0;36m, line \u001b[0;32m3\u001b[0m\n\u001b[0;31m    recovered_data =\u001b[0m\n\u001b[0m                     ^\u001b[0m\n\u001b[0;31mSyntaxError\u001b[0m\u001b[0;31m:\u001b[0m invalid syntax\n"
          ]
        }
      ]
    },
    {
      "cell_type": "markdown",
      "metadata": {
        "id": "3kRcOM_HFGMd"
      },
      "source": [
        " - ##### 요구사항5) pca 변환을 통해 total의 분산을 몇% 나타내는지 explained_variance 변수에 저장하고 이를 소수 둘째 자리에서 반올림해 출력하세요.\n",
        "  - * 힌트4) pca.explained_variance_ratio*\n",
        "  - * 힌트5) type에러가 왜 발생하고, 어떻게 해결할 수 있을지 고민해보세요.\n"
      ]
    },
    {
      "cell_type": "code",
      "metadata": {
        "colab": {
          "base_uri": "https://localhost:8080/",
          "height": 130
        },
        "id": "5SLh6To5FFpp",
        "outputId": "e0f22d17-7038-4024-806e-70a70014a47d"
      },
      "source": [
        "explained_variance = \n",
        "print()"
      ],
      "execution_count": null,
      "outputs": [
        {
          "output_type": "error",
          "ename": "SyntaxError",
          "evalue": "ignored",
          "traceback": [
            "\u001b[0;36m  File \u001b[0;32m\"<ipython-input-17-0d96e90dc7a6>\"\u001b[0;36m, line \u001b[0;32m1\u001b[0m\n\u001b[0;31m    explained_variance =\u001b[0m\n\u001b[0m                         ^\u001b[0m\n\u001b[0;31mSyntaxError\u001b[0m\u001b[0;31m:\u001b[0m invalid syntax\n"
          ]
        }
      ]
    }
  ]
}